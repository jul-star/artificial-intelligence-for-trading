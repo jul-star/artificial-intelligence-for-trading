{
 "cells": [
  {
   "cell_type": "markdown",
   "metadata": {},
   "source": [
    "# Project 1: Trading with Momentum\n",
    "## Instructions\n",
    "Each problem consists of a function to implement and instructions on how to implement the function.  The parts of the function that need to be implemented are marked with a `# TODO` comment. After implementing the function, run the cell to test it against the unit tests we've provided. For each problem, we provide one or more unit tests from our `project_tests` package. These unit tests won't tell you if your answer is correct, but will warn you of any major errors. Your code will be checked for the correct solution when you submit it to Udacity.\n",
    "\n",
    "## Packages\n",
    "When you implement the functions, you'll only need to you use the packages you've used in the classroom, like [Pandas](https://pandas.pydata.org/) and [Numpy](http://www.numpy.org/). These packages will be imported for you. We recommend you don't add any import statements, otherwise the grader might not be able to run your code.\n",
    "\n",
    "The other packages that we're importing are `helper`, `project_helper`, and `project_tests`. These are custom packages built to help you solve the problems.  The `helper` and `project_helper` module contains utility functions and graph functions. The `project_tests` contains the unit tests for all the problems.\n",
    "\n",
    "### Install Packages"
   ]
  },
  {
   "cell_type": "code",
   "execution_count": 4,
   "metadata": {
    "pycharm": {
     "is_executing": true
    }
   },
   "outputs": [
    {
     "name": "stderr",
     "output_type": "stream",
     "text": [
      "ERROR: pandas-datareader 0.9.0 has requirement requests>=2.19.0, but you'll have requests 2.18.4 which is incompatible."
     ]
    },
    {
     "name": "stdout",
     "output_type": "stream",
     "text": [
      "Requirement already satisfied: colour in c:\\users\\tom\\appdata\\local\\programs\\python\\python38-32\\lib\\site-packages (from -r requirements.txt (line 1)) (0.1.5)\n",
      "Requirement already satisfied: cvxpy in c:\\users\\tom\\appdata\\local\\programs\\python\\python38-32\\lib\\site-packages (from -r requirements.txt (line 2)) (1.0.3)\n",
      "Requirement already satisfied: cycler in c:\\users\\tom\\appdata\\local\\programs\\python\\python38-32\\lib\\site-packages (from -r requirements.txt (line 3)) (0.10.0)\n",
      "Requirement already satisfied: numpy in c:\\users\\tom\\appdata\\local\\programs\\python\\python38-32\\lib\\site-packages (from -r requirements.txt (line 4)) (1.19.0)\n",
      "Requirement already satisfied: pandas in c:\\users\\tom\\appdata\\local\\programs\\python\\python38-32\\lib\\site-packages (from -r requirements.txt (line 5)) (1.0.5)\n",
      "Requirement already satisfied: plotly in c:\\users\\tom\\appdata\\local\\programs\\python\\python38-32\\lib\\site-packages (from -r requirements.txt (line 6)) (2.2.3)\n",
      "Requirement already satisfied: pyparsing in c:\\users\\tom\\appdata\\local\\programs\\python\\python38-32\\lib\\site-packages (from -r requirements.txt (line 7)) (2.2.0)\n",
      "Requirement already satisfied: python-dateutil in c:\\users\\tom\\appdata\\local\\programs\\python\\python38-32\\lib\\site-packages (from -r requirements.txt (line 8)) (2.6.1)\n",
      "Requirement already satisfied: pytz in c:\\users\\tom\\appdata\\local\\programs\\python\\python38-32\\lib\\site-packages (from -r requirements.txt (line 9)) (2017.3)\n",
      "Requirement already satisfied: requests in c:\\users\\tom\\appdata\\local\\programs\\python\\python38-32\\lib\\site-packages (from -r requirements.txt (line 10)) (2.18.4)\n",
      "Requirement already satisfied: scipy in c:\\users\\tom\\appdata\\local\\programs\\python\\python38-32\\lib\\site-packages (from -r requirements.txt (line 11)) (1.5.1)\n",
      "Collecting scikit-learn\n",
      "  Downloading scikit_learn-0.23.1-cp38-cp38-win32.whl (6.0 MB)\n",
      "Requirement already satisfied: six in c:\\users\\tom\\appdata\\local\\programs\\python\\python38-32\\lib\\site-packages (from -r requirements.txt (line 13)) (1.11.0)\n",
      "Requirement already satisfied: tqdm in c:\\users\\tom\\appdata\\local\\programs\\python\\python38-32\\lib\\site-packages (from -r requirements.txt (line 14)) (4.19.5)\n",
      "Collecting zipline\n",
      "  Downloading zipline-1.3.0.tar.gz (2.5 MB)\n",
      "Requirement already satisfied: osqp in c:\\users\\tom\\appdata\\local\\programs\\python\\python38-32\\lib\\site-packages (from cvxpy->-r requirements.txt (line 2)) (0.6.1)\n",
      "Requirement already satisfied: ecos>=2 in c:\\users\\tom\\appdata\\local\\programs\\python\\python38-32\\lib\\site-packages (from cvxpy->-r requirements.txt (line 2)) (2.0.7.post1)\n",
      "Requirement already satisfied: scs>=1.1.3 in c:\\users\\tom\\appdata\\local\\programs\\python\\python38-32\\lib\\site-packages (from cvxpy->-r requirements.txt (line 2)) (2.1.2)\n",
      "Requirement already satisfied: multiprocess in c:\\users\\tom\\appdata\\local\\programs\\python\\python38-32\\lib\\site-packages (from cvxpy->-r requirements.txt (line 2)) (0.70.10)\n",
      "Requirement already satisfied: fastcache in c:\\users\\tom\\appdata\\local\\programs\\python\\python38-32\\lib\\site-packages (from cvxpy->-r requirements.txt (line 2)) (1.1.0)\n",
      "Requirement already satisfied: toolz in c:\\users\\tom\\appdata\\local\\programs\\python\\python38-32\\lib\\site-packages (from cvxpy->-r requirements.txt (line 2)) (0.10.0)\n",
      "Requirement already satisfied: decorator>=4.0.6 in c:\\users\\tom\\appdata\\local\\programs\\python\\python38-32\\lib\\site-packages (from plotly->-r requirements.txt (line 6)) (4.4.2)\n",
      "Requirement already satisfied: nbformat>=4.2 in c:\\users\\tom\\appdata\\local\\programs\\python\\python38-32\\lib\\site-packages (from plotly->-r requirements.txt (line 6)) (5.0.7)\n",
      "Requirement already satisfied: idna<2.7,>=2.5 in c:\\users\\tom\\appdata\\local\\programs\\python\\python38-32\\lib\\site-packages (from requests->-r requirements.txt (line 10)) (2.6)\n",
      "Requirement already satisfied: certifi>=2017.4.17 in c:\\users\\tom\\appdata\\local\\programs\\python\\python38-32\\lib\\site-packages (from requests->-r requirements.txt (line 10)) (2020.6.20)\n",
      "Requirement already satisfied: urllib3<1.23,>=1.21.1 in c:\\users\\tom\\appdata\\local\\programs\\python\\python38-32\\lib\\site-packages (from requests->-r requirements.txt (line 10)) (1.22)\n",
      "Requirement already satisfied: chardet<3.1.0,>=3.0.2 in c:\\users\\tom\\appdata\\local\\programs\\python\\python38-32\\lib\\site-packages (from requests->-r requirements.txt (line 10)) (3.0.4)\n",
      "Collecting joblib>=0.11\n",
      "  Downloading joblib-0.16.0-py3-none-any.whl (300 kB)\n",
      "Collecting threadpoolctl>=2.0.0\n",
      "  Downloading threadpoolctl-2.1.0-py3-none-any.whl (12 kB)\n",
      "Requirement already satisfied: pip>=7.1.0 in c:\\users\\tom\\appdata\\local\\programs\\python\\python38-32\\lib\\site-packages (from zipline->-r requirements.txt (line 15)) (20.1.1)\n",
      "Requirement already satisfied: setuptools>18.0 in c:\\users\\tom\\appdata\\local\\programs\\python\\python38-32\\lib\\site-packages (from zipline->-r requirements.txt (line 15)) (47.3.1)\n",
      "Requirement already satisfied: Logbook>=0.12.5 in c:\\users\\tom\\appdata\\local\\programs\\python\\python38-32\\lib\\site-packages (from zipline->-r requirements.txt (line 15)) (1.5.3)\n",
      "Requirement already satisfied: requests-file>=1.4.1 in c:\\users\\tom\\appdata\\local\\programs\\python\\python38-32\\lib\\site-packages (from zipline->-r requirements.txt (line 15)) (1.5.1)\n",
      "Collecting pandas-datareader>=0.2.1"
     ]
    },
    {
     "name": "stderr",
     "output_type": "stream",
     "text": [
      "\n",
      "ERROR: zipline 1.3.0 has requirement pandas<=0.22,>=0.18.1, but you'll have pandas 1.0.5 which is incompatible.\n",
      "    ERROR: Command errored out with exit status 1:\n",
      "     command: 'c:\\users\\tom\\appdata\\local\\programs\\python\\python38-32\\python.exe' -u -c 'import sys, setuptools, tokenize; sys.argv[0] = '\"'\"'C:\\\\Users\\\\Tom\\\\AppData\\\\Local\\\\Temp\\\\pip-install-y0qx8y5d\\\\cyordereddict\\\\setup.py'\"'\"'; __file__='\"'\"'C:\\\\Users\\\\Tom\\\\AppData\\\\Local\\\\Temp\\\\pip-install-y0qx8y5d\\\\cyordereddict\\\\setup.py'\"'\"';f=getattr(tokenize, '\"'\"'open'\"'\"', open)(__file__);code=f.read().replace('\"'\"'\\r\\n'\"'\"', '\"'\"'\\n'\"'\"');f.close();exec(compile(code, __file__, '\"'\"'exec'\"'\"'))' install --record 'C:\\Users\\Tom\\AppData\\Local\\Temp\\pip-record-i2bublkh\\install-record.txt' --single-version-externally-managed --compile --install-headers 'c:\\users\\tom\\appdata\\local\\programs\\python\\python38-32\\Include\\cyordereddict'\n",
      "         cwd: C:\\Users\\Tom\\AppData\\Local\\Temp\\pip-install-y0qx8y5d\\cyordereddict\\\n",
      "    Complete output (38 lines):\n",
      "    running install\n",
      "    running build\n",
      "    running build_py\n",
      "    creating build\n",
      "    creating build\\lib.win32-3.8\n",
      "    creating build\\lib.win32-3.8\\cyordereddict\n",
      "    copying python3\\cyordereddict\\_version.py -> build\\lib.win32-3.8\\cyordereddict\n",
      "    copying python3\\cyordereddict\\__init__.py -> build\\lib.win32-3.8\\cyordereddict\n",
      "    creating build\\lib.win32-3.8\\cyordereddict\\benchmark\n",
      "    copying python3\\cyordereddict\\benchmark\\benchmark.py -> build\\lib.win32-3.8\\cyordereddict\\benchmark\n",
      "    copying python3\\cyordereddict\\benchmark\\magic_timeit.py -> build\\lib.win32-3.8\\cyordereddict\\benchmark\n",
      "    copying python3\\cyordereddict\\benchmark\\__init__.py -> build\\lib.win32-3.8\\cyordereddict\\benchmark\n",
      "    creating build\\lib.win32-3.8\\cyordereddict\\test\n",
      "    copying python3\\cyordereddict\\test\\test_cyordereddict.py -> build\\lib.win32-3.8\\cyordereddict\\test\n",
      "    copying python3\\cyordereddict\\test\\test_ordereddict.py -> build\\lib.win32-3.8\\cyordereddict\\test\n",
      "    copying python3\\cyordereddict\\test\\_mapping_tests.py -> build\\lib.win32-3.8\\cyordereddict\\test\n",
      "    copying python3\\cyordereddict\\test\\__init__.py -> build\\lib.win32-3.8\\cyordereddict\\test\n",
      "    running build_ext\n",
      "    building 'cyordereddict._cyordereddict' extension\n",
      "    creating build\\temp.win32-3.8\n",
      "    creating build\\temp.win32-3.8\\Release\n",
      "    creating build\\temp.win32-3.8\\Release\\python3\n",
      "    creating build\\temp.win32-3.8\\Release\\python3\\cyordereddict\n",
      "    C:\\Program Files (x86)\\Microsoft Visual Studio\\2019\\Enterprise\\VC\\Tools\\MSVC\\14.21.27702\\bin\\HostX86\\x86\\cl.exe /c /nologo /Ox /W3 /GL /DNDEBUG /MD -Ic:\\users\\tom\\appdata\\local\\programs\\python\\python38-32\\include -Ic:\\users\\tom\\appdata\\local\\programs\\python\\python38-32\\include \"-IC:\\Program Files (x86)\\Microsoft Visual Studio\\2019\\Enterprise\\VC\\Tools\\MSVC\\14.21.27702\\ATLMFC\\include\" \"-IC:\\Program Files (x86)\\Microsoft Visual Studio\\2019\\Enterprise\\VC\\Tools\\MSVC\\14.21.27702\\include\" \"-IC:\\Program Files (x86)\\Windows Kits\\NETFXSDK\\4.6.1\\include\\um\" \"-IC:\\Program Files (x86)\\Windows Kits\\10\\include\\10.0.18362.0\\ucrt\" \"-IC:\\Program Files (x86)\\Windows Kits\\10\\include\\10.0.18362.0\\shared\" \"-IC:\\Program Files (x86)\\Windows Kits\\10\\include\\10.0.18362.0\\um\" \"-IC:\\Program Files (x86)\\Windows Kits\\10\\include\\10.0.18362.0\\winrt\" \"-IC:\\Program Files (x86)\\Windows Kits\\10\\include\\10.0.18362.0\\cppwinrt\" /Tcpython3\\cyordereddict\\_cyordereddict.c /Fobuild\\temp.win32-3.8\\Release\\python3\\cyordereddict\\_cyordereddict.obj\n",
      "    _cyordereddict.c\n",
      "    python3\\cyordereddict\\_cyordereddict.c(7481): error C2039: exc_type: ­Ґ пў«пҐвбп з«Ґ­®¬ \"_ts\"\n",
      "    c:\\users\\tom\\appdata\\local\\programs\\python\\python38-32\\include\\cpython/pystate.h(51): note:  б¬. ®Ўкпў«Ґ­ЁҐ \"_ts\"\n",
      "    python3\\cyordereddict\\_cyordereddict.c(7482): error C2039: exc_value: ­Ґ пў«пҐвбп з«Ґ­®¬ \"_ts\"\n",
      "    c:\\users\\tom\\appdata\\local\\programs\\python\\python38-32\\include\\cpython/pystate.h(51): note:  б¬. ®Ўкпў«Ґ­ЁҐ \"_ts\"\n",
      "    python3\\cyordereddict\\_cyordereddict.c(7483): error C2039: exc_traceback: ­Ґ пў«пҐвбп з«Ґ­®¬ \"_ts\"\n",
      "    c:\\users\\tom\\appdata\\local\\programs\\python\\python38-32\\include\\cpython/pystate.h(51): note:  б¬. ®Ўкпў«Ґ­ЁҐ \"_ts\"\n",
      "    python3\\cyordereddict\\_cyordereddict.c(7484): error C2039: exc_type: ­Ґ пў«пҐвбп з«Ґ­®¬ \"_ts\"\n",
      "    c:\\users\\tom\\appdata\\local\\programs\\python\\python38-32\\include\\cpython/pystate.h(51): note:  б¬. ®Ўкпў«Ґ­ЁҐ \"_ts\"\n",
      "    python3\\cyordereddict\\_cyordereddict.c(7485): error C2039: exc_value: ­Ґ пў«пҐвбп з«Ґ­®¬ \"_ts\"\n",
      "    c:\\users\\tom\\appdata\\local\\programs\\python\\python38-32\\include\\cpython/pystate.h(51): note:  б¬. ®Ўкпў«Ґ­ЁҐ \"_ts\"\n",
      "    python3\\cyordereddict\\_cyordereddict.c(7486): error C2039: exc_traceback: ­Ґ пў«пҐвбп з«Ґ­®¬ \"_ts\"\n",
      "    c:\\users\\tom\\appdata\\local\\programs\\python\\python38-32\\include\\cpython/pystate.h(51): note:  б¬. ®Ўкпў«Ґ­ЁҐ \"_ts\"\n",
      "    error: command 'C:\\\\Program Files (x86)\\\\Microsoft Visual Studio\\\\2019\\\\Enterprise\\\\VC\\\\Tools\\\\MSVC\\\\14.21.27702\\\\bin\\\\HostX86\\\\x86\\\\cl.exe' failed with exit status 2\n",
      "    ----------------------------------------\n",
      "ERROR: Command errored out with exit status 1: 'c:\\users\\tom\\appdata\\local\\programs\\python\\python38-32\\python.exe' -u -c 'import sys, setuptools, tokenize; sys.argv[0] = '\"'\"'C:\\\\Users\\\\Tom\\\\AppData\\\\Local\\\\Temp\\\\pip-install-y0qx8y5d\\\\cyordereddict\\\\setup.py'\"'\"'; __file__='\"'\"'C:\\\\Users\\\\Tom\\\\AppData\\\\Local\\\\Temp\\\\pip-install-y0qx8y5d\\\\cyordereddict\\\\setup.py'\"'\"';f=getattr(tokenize, '\"'\"'open'\"'\"', open)(__file__);code=f.read().replace('\"'\"'\\r\\n'\"'\"', '\"'\"'\\n'\"'\"');f.close();exec(compile(code, __file__, '\"'\"'exec'\"'\"'))' install --record 'C:\\Users\\Tom\\AppData\\Local\\Temp\\pip-record-i2bublkh\\install-record.txt' --single-version-externally-managed --compile --install-headers 'c:\\users\\tom\\appdata\\local\\programs\\python\\python38-32\\Include\\cyordereddict' Check the logs for full command output.\n"
     ]
    },
    {
     "name": "stdout",
     "output_type": "stream",
     "text": [
      "\n",
      "  Downloading pandas_datareader-0.9.0-py3-none-any.whl (107 kB)\n",
      "Collecting patsy>=0.4.0\n",
      "  Using cached patsy-0.5.1-py2.py3-none-any.whl (231 kB)\n",
      "Collecting statsmodels>=0.6.1\n",
      "  Using cached statsmodels-0.11.1-cp38-none-win32.whl (7.8 MB)\n",
      "Collecting Cython>=0.25.2\n",
      "  Using cached Cython-0.29.21-cp38-cp38-win32.whl (1.6 MB)\n",
      "Collecting cyordereddict>=0.2.2\n",
      "  Using cached cyordereddict-1.0.0.tar.gz (138 kB)\n",
      "Processing c:\\users\\tom\\appdata\\local\\pip\\cache\\wheels\\29\\60\\c9\\98f744fb5c7d1ffb38d096318d9e873a08c0f5df07d6487626\\bottleneck-1.3.2-cp38-cp38-win32.whl\n",
      "Collecting contextlib2>=0.4.0\n",
      "  Using cached contextlib2-0.6.0.post1-py2.py3-none-any.whl (9.8 kB)\n",
      "Collecting networkx<2.0,>=1.9.1\n",
      "  Using cached networkx-1.11-py2.py3-none-any.whl (1.3 MB)\n",
      "Collecting numexpr>=2.6.1\n",
      "  Using cached numexpr-2.7.1-cp38-none-win32.whl (91 kB)\n",
      "Collecting bcolz<1,>=0.12.1\n",
      "  Using cached bcolz-0.12.1.tar.gz (622 kB)\n",
      "Collecting click>=4.0.0\n",
      "  Using cached click-7.1.2-py2.py3-none-any.whl (82 kB)\n",
      "Collecting multipledispatch>=0.4.8\n",
      "  Using cached multipledispatch-0.6.0-py3-none-any.whl (11 kB)\n",
      "Requirement already satisfied: MarkupSafe>=0.23 in c:\\users\\tom\\appdata\\local\\programs\\python\\python38-32\\lib\\site-packages (from zipline->-r requirements.txt (line 15)) (1.1.1)\n",
      "Collecting Mako>=1.0.1\n",
      "  Using cached Mako-1.1.3-py2.py3-none-any.whl (75 kB)\n",
      "Collecting sqlalchemy>=1.0.8\n",
      "  Using cached SQLAlchemy-1.3.18-cp38-cp38-win32.whl (1.2 MB)\n",
      "Processing c:\\users\\tom\\appdata\\local\\pip\\cache\\wheels\\70\\08\\70\\cea787a7e95817b831469fa42af076046e55a05f7c94657463\\alembic-1.4.2-py2.py3-none-any.whl\n",
      "Collecting sortedcontainers>=1.4.4\n",
      "  Using cached sortedcontainers-2.2.2-py2.py3-none-any.whl (29 kB)\n",
      "Collecting intervaltree>=2.1.0\n",
      "  Using cached intervaltree-3.0.2.tar.gz (30 kB)\n",
      "Collecting lru-dict>=1.1.4\n",
      "  Using cached lru-dict-1.1.6.tar.gz (9.4 kB)\n",
      "Collecting empyrical>=0.5.0\n",
      "  Using cached empyrical-0.5.3.tar.gz (50 kB)\n",
      "Collecting tables>=3.3.0\n",
      "  Using cached tables-3.6.1-2-cp38-cp38-win32.whl (2.8 MB)\n",
      "Collecting trading-calendars>=1.0.1\n",
      "  Downloading trading_calendars-1.11.8.tar.gz (100 kB)\n",
      "Requirement already satisfied: future in c:\\users\\tom\\appdata\\local\\programs\\python\\python38-32\\lib\\site-packages (from osqp->cvxpy->-r requirements.txt (line 2)) (0.18.2)\n",
      "Requirement already satisfied: dill>=0.3.2 in c:\\users\\tom\\appdata\\local\\programs\\python\\python38-32\\lib\\site-packages (from multiprocess->cvxpy->-r requirements.txt (line 2)) (0.3.2)\n",
      "Requirement already satisfied: jupyter-core in c:\\users\\tom\\appdata\\local\\programs\\python\\python38-32\\lib\\site-packages (from nbformat>=4.2->plotly->-r requirements.txt (line 6)) (4.6.3)\n",
      "Requirement already satisfied: jsonschema!=2.5.0,>=2.4 in c:\\users\\tom\\appdata\\local\\programs\\python\\python38-32\\lib\\site-packages (from nbformat>=4.2->plotly->-r requirements.txt (line 6)) (3.2.0)\n",
      "Requirement already satisfied: traitlets>=4.1 in c:\\users\\tom\\appdata\\local\\programs\\python\\python38-32\\lib\\site-packages (from nbformat>=4.2->plotly->-r requirements.txt (line 6)) (4.3.3)\n",
      "Requirement already satisfied: ipython-genutils in c:\\users\\tom\\appdata\\local\\programs\\python\\python38-32\\lib\\site-packages (from nbformat>=4.2->plotly->-r requirements.txt (line 6)) (0.2.0)\n",
      "Collecting lxml\n",
      "  Downloading lxml-4.5.2-cp38-cp38-win32.whl (3.2 MB)\n",
      "Collecting python-editor>=0.3\n",
      "  Using cached python_editor-1.0.4-py3-none-any.whl (4.9 kB)\n",
      "Requirement already satisfied: pywin32>=1.0; sys_platform == \"win32\" in c:\\users\\tom\\appdata\\local\\programs\\python\\python38-32\\lib\\site-packages (from jupyter-core->nbformat>=4.2->plotly->-r requirements.txt (line 6)) (228)\n",
      "Requirement already satisfied: attrs>=17.4.0 in c:\\users\\tom\\appdata\\local\\programs\\python\\python38-32\\lib\\site-packages (from jsonschema!=2.5.0,>=2.4->nbformat>=4.2->plotly->-r requirements.txt (line 6)) (19.3.0)\n",
      "Requirement already satisfied: pyrsistent>=0.14.0 in c:\\users\\tom\\appdata\\local\\programs\\python\\python38-32\\lib\\site-packages (from jsonschema!=2.5.0,>=2.4->nbformat>=4.2->plotly->-r requirements.txt (line 6)) (0.16.0)\n",
      "Using legacy setup.py install for zipline, since package 'wheel' is not installed.\n",
      "Using legacy setup.py install for cyordereddict, since package 'wheel' is not installed.\n",
      "Using legacy setup.py install for bcolz, since package 'wheel' is not installed.\n",
      "Using legacy setup.py install for intervaltree, since package 'wheel' is not installed.\n",
      "Using legacy setup.py install for lru-dict, since package 'wheel' is not installed.\n",
      "Using legacy setup.py install for empyrical, since package 'wheel' is not installed.\n",
      "Using legacy setup.py install for trading-calendars, since package 'wheel' is not installed.\n",
      "Installing collected packages: joblib, threadpoolctl, scikit-learn, lxml, pandas-datareader, patsy, statsmodels, Cython, cyordereddict, bottleneck, contextlib2, networkx, numexpr, bcolz, click, multipledispatch, Mako, sqlalchemy, python-editor, alembic, sortedcontainers, intervaltree, lru-dict, empyrical, tables, trading-calendars, zipline\n",
      "    Running setup.py install for cyordereddict: started\n",
      "    Running setup.py install for cyordereddict: finished with status 'error'\n"
     ]
    }
   ],
   "source": [
    "import sys\n",
    "!{sys.executable} -m pip install -r requirements.txt"
   ]
  },
  {
   "cell_type": "markdown",
   "metadata": {},
   "source": [
    "### Load Packages"
   ]
  },
  {
   "cell_type": "code",
   "execution_count": 7,
   "metadata": {
    "pycharm": {
     "is_executing": true
    }
   },
   "outputs": [],
   "source": [
    "import pandas as pd\n",
    "import numpy as np\n",
    "import helper\n",
    "import project_helper\n",
    "import project_tests"
   ]
  },
  {
   "cell_type": "markdown",
   "metadata": {},
   "source": [
    "## Market Data\n",
    "### Load Data\n",
    "The data we use for most of the projects is end of day data. This contains data for many stocks, but we'll be looking at stocks in the S&P 500. We also made things a little easier to run by narrowing down our range of time period instead of using all of the data."
   ]
  },
  {
   "cell_type": "code",
   "execution_count": 8,
   "metadata": {
    "pycharm": {
     "is_executing": true
    }
   },
   "outputs": [
    {
     "ename": "FileNotFoundError",
     "evalue": "[Errno 2] File ../../data/project_1/eod-quotemedia.csv does not exist: '../../data/project_1/eod-quotemedia.csv'",
     "output_type": "error",
     "traceback": [
      "\u001B[1;31m---------------------------------------------------------------------------\u001B[0m",
      "\u001B[1;31mFileNotFoundError\u001B[0m                         Traceback (most recent call last)",
      "\u001B[1;32m<ipython-input-8-637dc2958f45>\u001B[0m in \u001B[0;36m<module>\u001B[1;34m\u001B[0m\n\u001B[1;32m----> 1\u001B[1;33m \u001B[0mdf\u001B[0m \u001B[1;33m=\u001B[0m \u001B[0mpd\u001B[0m\u001B[1;33m.\u001B[0m\u001B[0mread_csv\u001B[0m\u001B[1;33m(\u001B[0m\u001B[1;34m'../../data/project_1/eod-quotemedia.csv'\u001B[0m\u001B[1;33m,\u001B[0m \u001B[0mparse_dates\u001B[0m\u001B[1;33m=\u001B[0m\u001B[1;33m[\u001B[0m\u001B[1;34m'date'\u001B[0m\u001B[1;33m]\u001B[0m\u001B[1;33m,\u001B[0m \u001B[0mindex_col\u001B[0m\u001B[1;33m=\u001B[0m\u001B[1;32mFalse\u001B[0m\u001B[1;33m)\u001B[0m\u001B[1;33m\u001B[0m\u001B[1;33m\u001B[0m\u001B[0m\n\u001B[0m\u001B[0;32m      2\u001B[0m \u001B[1;33m\u001B[0m\u001B[0m\n\u001B[0;32m      3\u001B[0m \u001B[0mclose\u001B[0m \u001B[1;33m=\u001B[0m \u001B[0mdf\u001B[0m\u001B[1;33m.\u001B[0m\u001B[0mreset_index\u001B[0m\u001B[1;33m(\u001B[0m\u001B[1;33m)\u001B[0m\u001B[1;33m.\u001B[0m\u001B[0mpivot\u001B[0m\u001B[1;33m(\u001B[0m\u001B[0mindex\u001B[0m\u001B[1;33m=\u001B[0m\u001B[1;34m'date'\u001B[0m\u001B[1;33m,\u001B[0m \u001B[0mcolumns\u001B[0m\u001B[1;33m=\u001B[0m\u001B[1;34m'ticker'\u001B[0m\u001B[1;33m,\u001B[0m \u001B[0mvalues\u001B[0m\u001B[1;33m=\u001B[0m\u001B[1;34m'adj_close'\u001B[0m\u001B[1;33m)\u001B[0m\u001B[1;33m\u001B[0m\u001B[1;33m\u001B[0m\u001B[0m\n\u001B[0;32m      4\u001B[0m \u001B[1;33m\u001B[0m\u001B[0m\n\u001B[0;32m      5\u001B[0m \u001B[0mprint\u001B[0m\u001B[1;33m(\u001B[0m\u001B[1;34m'Loaded Data'\u001B[0m\u001B[1;33m)\u001B[0m\u001B[1;33m\u001B[0m\u001B[1;33m\u001B[0m\u001B[0m\n",
      "\u001B[1;32mc:\\users\\tom\\appdata\\local\\programs\\python\\python38-32\\lib\\site-packages\\pandas\\io\\parsers.py\u001B[0m in \u001B[0;36mparser_f\u001B[1;34m(filepath_or_buffer, sep, delimiter, header, names, index_col, usecols, squeeze, prefix, mangle_dupe_cols, dtype, engine, converters, true_values, false_values, skipinitialspace, skiprows, skipfooter, nrows, na_values, keep_default_na, na_filter, verbose, skip_blank_lines, parse_dates, infer_datetime_format, keep_date_col, date_parser, dayfirst, cache_dates, iterator, chunksize, compression, thousands, decimal, lineterminator, quotechar, quoting, doublequote, escapechar, comment, encoding, dialect, error_bad_lines, warn_bad_lines, delim_whitespace, low_memory, memory_map, float_precision)\u001B[0m\n\u001B[0;32m    674\u001B[0m         )\n\u001B[0;32m    675\u001B[0m \u001B[1;33m\u001B[0m\u001B[0m\n\u001B[1;32m--> 676\u001B[1;33m         \u001B[1;32mreturn\u001B[0m \u001B[0m_read\u001B[0m\u001B[1;33m(\u001B[0m\u001B[0mfilepath_or_buffer\u001B[0m\u001B[1;33m,\u001B[0m \u001B[0mkwds\u001B[0m\u001B[1;33m)\u001B[0m\u001B[1;33m\u001B[0m\u001B[1;33m\u001B[0m\u001B[0m\n\u001B[0m\u001B[0;32m    677\u001B[0m \u001B[1;33m\u001B[0m\u001B[0m\n\u001B[0;32m    678\u001B[0m     \u001B[0mparser_f\u001B[0m\u001B[1;33m.\u001B[0m\u001B[0m__name__\u001B[0m \u001B[1;33m=\u001B[0m \u001B[0mname\u001B[0m\u001B[1;33m\u001B[0m\u001B[1;33m\u001B[0m\u001B[0m\n",
      "\u001B[1;32mc:\\users\\tom\\appdata\\local\\programs\\python\\python38-32\\lib\\site-packages\\pandas\\io\\parsers.py\u001B[0m in \u001B[0;36m_read\u001B[1;34m(filepath_or_buffer, kwds)\u001B[0m\n\u001B[0;32m    446\u001B[0m \u001B[1;33m\u001B[0m\u001B[0m\n\u001B[0;32m    447\u001B[0m     \u001B[1;31m# Create the parser.\u001B[0m\u001B[1;33m\u001B[0m\u001B[1;33m\u001B[0m\u001B[1;33m\u001B[0m\u001B[0m\n\u001B[1;32m--> 448\u001B[1;33m     \u001B[0mparser\u001B[0m \u001B[1;33m=\u001B[0m \u001B[0mTextFileReader\u001B[0m\u001B[1;33m(\u001B[0m\u001B[0mfp_or_buf\u001B[0m\u001B[1;33m,\u001B[0m \u001B[1;33m**\u001B[0m\u001B[0mkwds\u001B[0m\u001B[1;33m)\u001B[0m\u001B[1;33m\u001B[0m\u001B[1;33m\u001B[0m\u001B[0m\n\u001B[0m\u001B[0;32m    449\u001B[0m \u001B[1;33m\u001B[0m\u001B[0m\n\u001B[0;32m    450\u001B[0m     \u001B[1;32mif\u001B[0m \u001B[0mchunksize\u001B[0m \u001B[1;32mor\u001B[0m \u001B[0miterator\u001B[0m\u001B[1;33m:\u001B[0m\u001B[1;33m\u001B[0m\u001B[1;33m\u001B[0m\u001B[0m\n",
      "\u001B[1;32mc:\\users\\tom\\appdata\\local\\programs\\python\\python38-32\\lib\\site-packages\\pandas\\io\\parsers.py\u001B[0m in \u001B[0;36m__init__\u001B[1;34m(self, f, engine, **kwds)\u001B[0m\n\u001B[0;32m    878\u001B[0m             \u001B[0mself\u001B[0m\u001B[1;33m.\u001B[0m\u001B[0moptions\u001B[0m\u001B[1;33m[\u001B[0m\u001B[1;34m\"has_index_names\"\u001B[0m\u001B[1;33m]\u001B[0m \u001B[1;33m=\u001B[0m \u001B[0mkwds\u001B[0m\u001B[1;33m[\u001B[0m\u001B[1;34m\"has_index_names\"\u001B[0m\u001B[1;33m]\u001B[0m\u001B[1;33m\u001B[0m\u001B[1;33m\u001B[0m\u001B[0m\n\u001B[0;32m    879\u001B[0m \u001B[1;33m\u001B[0m\u001B[0m\n\u001B[1;32m--> 880\u001B[1;33m         \u001B[0mself\u001B[0m\u001B[1;33m.\u001B[0m\u001B[0m_make_engine\u001B[0m\u001B[1;33m(\u001B[0m\u001B[0mself\u001B[0m\u001B[1;33m.\u001B[0m\u001B[0mengine\u001B[0m\u001B[1;33m)\u001B[0m\u001B[1;33m\u001B[0m\u001B[1;33m\u001B[0m\u001B[0m\n\u001B[0m\u001B[0;32m    881\u001B[0m \u001B[1;33m\u001B[0m\u001B[0m\n\u001B[0;32m    882\u001B[0m     \u001B[1;32mdef\u001B[0m \u001B[0mclose\u001B[0m\u001B[1;33m(\u001B[0m\u001B[0mself\u001B[0m\u001B[1;33m)\u001B[0m\u001B[1;33m:\u001B[0m\u001B[1;33m\u001B[0m\u001B[1;33m\u001B[0m\u001B[0m\n",
      "\u001B[1;32mc:\\users\\tom\\appdata\\local\\programs\\python\\python38-32\\lib\\site-packages\\pandas\\io\\parsers.py\u001B[0m in \u001B[0;36m_make_engine\u001B[1;34m(self, engine)\u001B[0m\n\u001B[0;32m   1112\u001B[0m     \u001B[1;32mdef\u001B[0m \u001B[0m_make_engine\u001B[0m\u001B[1;33m(\u001B[0m\u001B[0mself\u001B[0m\u001B[1;33m,\u001B[0m \u001B[0mengine\u001B[0m\u001B[1;33m=\u001B[0m\u001B[1;34m\"c\"\u001B[0m\u001B[1;33m)\u001B[0m\u001B[1;33m:\u001B[0m\u001B[1;33m\u001B[0m\u001B[1;33m\u001B[0m\u001B[0m\n\u001B[0;32m   1113\u001B[0m         \u001B[1;32mif\u001B[0m \u001B[0mengine\u001B[0m \u001B[1;33m==\u001B[0m \u001B[1;34m\"c\"\u001B[0m\u001B[1;33m:\u001B[0m\u001B[1;33m\u001B[0m\u001B[1;33m\u001B[0m\u001B[0m\n\u001B[1;32m-> 1114\u001B[1;33m             \u001B[0mself\u001B[0m\u001B[1;33m.\u001B[0m\u001B[0m_engine\u001B[0m \u001B[1;33m=\u001B[0m \u001B[0mCParserWrapper\u001B[0m\u001B[1;33m(\u001B[0m\u001B[0mself\u001B[0m\u001B[1;33m.\u001B[0m\u001B[0mf\u001B[0m\u001B[1;33m,\u001B[0m \u001B[1;33m**\u001B[0m\u001B[0mself\u001B[0m\u001B[1;33m.\u001B[0m\u001B[0moptions\u001B[0m\u001B[1;33m)\u001B[0m\u001B[1;33m\u001B[0m\u001B[1;33m\u001B[0m\u001B[0m\n\u001B[0m\u001B[0;32m   1115\u001B[0m         \u001B[1;32melse\u001B[0m\u001B[1;33m:\u001B[0m\u001B[1;33m\u001B[0m\u001B[1;33m\u001B[0m\u001B[0m\n\u001B[0;32m   1116\u001B[0m             \u001B[1;32mif\u001B[0m \u001B[0mengine\u001B[0m \u001B[1;33m==\u001B[0m \u001B[1;34m\"python\"\u001B[0m\u001B[1;33m:\u001B[0m\u001B[1;33m\u001B[0m\u001B[1;33m\u001B[0m\u001B[0m\n",
      "\u001B[1;32mc:\\users\\tom\\appdata\\local\\programs\\python\\python38-32\\lib\\site-packages\\pandas\\io\\parsers.py\u001B[0m in \u001B[0;36m__init__\u001B[1;34m(self, src, **kwds)\u001B[0m\n\u001B[0;32m   1889\u001B[0m         \u001B[0mkwds\u001B[0m\u001B[1;33m[\u001B[0m\u001B[1;34m\"usecols\"\u001B[0m\u001B[1;33m]\u001B[0m \u001B[1;33m=\u001B[0m \u001B[0mself\u001B[0m\u001B[1;33m.\u001B[0m\u001B[0musecols\u001B[0m\u001B[1;33m\u001B[0m\u001B[1;33m\u001B[0m\u001B[0m\n\u001B[0;32m   1890\u001B[0m \u001B[1;33m\u001B[0m\u001B[0m\n\u001B[1;32m-> 1891\u001B[1;33m         \u001B[0mself\u001B[0m\u001B[1;33m.\u001B[0m\u001B[0m_reader\u001B[0m \u001B[1;33m=\u001B[0m \u001B[0mparsers\u001B[0m\u001B[1;33m.\u001B[0m\u001B[0mTextReader\u001B[0m\u001B[1;33m(\u001B[0m\u001B[0msrc\u001B[0m\u001B[1;33m,\u001B[0m \u001B[1;33m**\u001B[0m\u001B[0mkwds\u001B[0m\u001B[1;33m)\u001B[0m\u001B[1;33m\u001B[0m\u001B[1;33m\u001B[0m\u001B[0m\n\u001B[0m\u001B[0;32m   1892\u001B[0m         \u001B[0mself\u001B[0m\u001B[1;33m.\u001B[0m\u001B[0munnamed_cols\u001B[0m \u001B[1;33m=\u001B[0m \u001B[0mself\u001B[0m\u001B[1;33m.\u001B[0m\u001B[0m_reader\u001B[0m\u001B[1;33m.\u001B[0m\u001B[0munnamed_cols\u001B[0m\u001B[1;33m\u001B[0m\u001B[1;33m\u001B[0m\u001B[0m\n\u001B[0;32m   1893\u001B[0m \u001B[1;33m\u001B[0m\u001B[0m\n",
      "\u001B[1;32mpandas\\_libs\\parsers.pyx\u001B[0m in \u001B[0;36mpandas._libs.parsers.TextReader.__cinit__\u001B[1;34m()\u001B[0m\n",
      "\u001B[1;32mpandas\\_libs\\parsers.pyx\u001B[0m in \u001B[0;36mpandas._libs.parsers.TextReader._setup_parser_source\u001B[1;34m()\u001B[0m\n",
      "\u001B[1;31mFileNotFoundError\u001B[0m: [Errno 2] File ../../data/project_1/eod-quotemedia.csv does not exist: '../../data/project_1/eod-quotemedia.csv'"
     ]
    }
   ],
   "source": [
    "df = pd.read_csv('../../data/project_1/eod-quotemedia.csv', parse_dates=['date'], index_col=False)\n",
    "\n",
    "close = df.reset_index().pivot(index='date', columns='ticker', values='adj_close')\n",
    "\n",
    "print('Loaded Data')"
   ]
  },
  {
   "cell_type": "markdown",
   "metadata": {},
   "source": [
    "### View Data\n",
    "Run the cell below to see what the data looks like for `close`."
   ]
  },
  {
   "cell_type": "code",
   "execution_count": null,
   "metadata": {
    "collapsed": true,
    "pycharm": {
     "is_executing": true
    },
    "scrolled": true
   },
   "outputs": [],
   "source": [
    "project_helper.print_dataframe(close)"
   ]
  },
  {
   "cell_type": "markdown",
   "metadata": {},
   "source": [
    "### Stock Example\n",
    "Let's see what a single stock looks like from the closing prices. For this example and future display examples in this project, we'll use Apple's stock (AAPL). If we tried to graph all the stocks, it would be too much information."
   ]
  },
  {
   "cell_type": "code",
   "execution_count": null,
   "metadata": {
    "collapsed": true,
    "pycharm": {
     "is_executing": true
    }
   },
   "outputs": [],
   "source": [
    "apple_ticker = 'AAPL'\n",
    "project_helper.plot_stock(close[apple_ticker], '{} Stock'.format(apple_ticker))"
   ]
  },
  {
   "cell_type": "markdown",
   "metadata": {},
   "source": [
    "## Resample Adjusted Prices\n",
    "\n",
    "The trading signal you'll develop in this project does not need to be based on daily prices, for instance, you can use month-end prices to perform trading once a month. To do this, you must first resample the daily adjusted closing prices into monthly buckets, and select the last observation of each month.\n",
    "\n",
    "Implement the `resample_prices` to resample `close_prices` at the sampling frequency of `freq`."
   ]
  },
  {
   "cell_type": "code",
   "execution_count": null,
   "metadata": {
    "collapsed": true,
    "pycharm": {
     "is_executing": true
    }
   },
   "outputs": [],
   "source": [
    "def resample_prices(close_prices, freq='M'):\n",
    "    \"\"\"\n",
    "    Resample close prices for each ticker at specified frequency.\n",
    "    \n",
    "    Parameters\n",
    "    ----------\n",
    "    close_prices : DataFrame\n",
    "        Close prices for each ticker and date\n",
    "    freq : str\n",
    "        What frequency to sample at\n",
    "        For valid freq choices, see http://pandas.pydata.org/pandas-docs/stable/timeseries.html#offset-aliases\n",
    "    \n",
    "    Returns\n",
    "    -------\n",
    "    prices_resampled : DataFrame\n",
    "        Resampled prices for each ticker and date\n",
    "    \"\"\"\n",
    "    # TODO: Implement Function\n",
    "    \n",
    "    return None\n",
    "\n",
    "project_tests.test_resample_prices(resample_prices)"
   ]
  },
  {
   "cell_type": "markdown",
   "metadata": {},
   "source": [
    "### View Data\n",
    "Let's apply this function to `close` and view the results."
   ]
  },
  {
   "cell_type": "code",
   "execution_count": null,
   "metadata": {
    "collapsed": true,
    "pycharm": {
     "is_executing": true
    }
   },
   "outputs": [],
   "source": [
    "monthly_close = resample_prices(close)\n",
    "project_helper.plot_resampled_prices(\n",
    "    monthly_close.loc[:, apple_ticker],\n",
    "    close.loc[:, apple_ticker],\n",
    "    '{} Stock - Close Vs Monthly Close'.format(apple_ticker))"
   ]
  },
  {
   "cell_type": "markdown",
   "metadata": {},
   "source": [
    "## Compute Log Returns\n",
    "\n",
    "Compute log returns ($R_t$) from prices ($P_t$) as your primary momentum indicator:\n",
    "\n",
    "$$R_t = log_e(P_t) - log_e(P_{t-1})$$\n",
    "\n",
    "Implement the `compute_log_returns` function below, such that it accepts a dataframe (like one returned by `resample_prices`), and produces a similar dataframe of log returns. Use Numpy's [log function](https://docs.scipy.org/doc/numpy/reference/generated/numpy.log.html) to help you calculate the log returns."
   ]
  },
  {
   "cell_type": "code",
   "execution_count": null,
   "metadata": {
    "collapsed": true,
    "pycharm": {
     "is_executing": true
    }
   },
   "outputs": [],
   "source": [
    "def compute_log_returns(prices):\n",
    "    \"\"\"\n",
    "    Compute log returns for each ticker.\n",
    "    \n",
    "    Parameters\n",
    "    ----------\n",
    "    prices : DataFrame\n",
    "        Prices for each ticker and date\n",
    "    \n",
    "    Returns\n",
    "    -------\n",
    "    log_returns : DataFrame\n",
    "        Log returns for each ticker and date\n",
    "    \"\"\"\n",
    "    # TODO: Implement Function\n",
    "    \n",
    "    return None\n",
    "\n",
    "project_tests.test_compute_log_returns(compute_log_returns)"
   ]
  },
  {
   "cell_type": "markdown",
   "metadata": {},
   "source": [
    "### View Data\n",
    "Using the same data returned from `resample_prices`, we'll generate the log returns."
   ]
  },
  {
   "cell_type": "code",
   "execution_count": null,
   "metadata": {
    "collapsed": true,
    "pycharm": {
     "is_executing": true
    }
   },
   "outputs": [],
   "source": [
    "monthly_close_returns = compute_log_returns(monthly_close)\n",
    "project_helper.plot_returns(\n",
    "    monthly_close_returns.loc[:, apple_ticker],\n",
    "    'Log Returns of {} Stock (Monthly)'.format(apple_ticker))"
   ]
  },
  {
   "cell_type": "markdown",
   "metadata": {},
   "source": [
    "## Shift Returns\n",
    "Implement the `shift_returns` function to shift the log returns to the previous or future returns in the time series. For example, the parameter `shift_n` is 2 and `returns` is the following:\n",
    "\n",
    "```\n",
    "                           Returns\n",
    "               A         B         C         D\n",
    "2013-07-08     0.015     0.082     0.096     0.020     ...\n",
    "2013-07-09     0.037     0.095     0.027     0.063     ...\n",
    "2013-07-10     0.094     0.001     0.093     0.019     ...\n",
    "2013-07-11     0.092     0.057     0.069     0.087     ...\n",
    "...            ...       ...       ...       ...\n",
    "```\n",
    "\n",
    "the output of the `shift_returns` function would be:\n",
    "```\n",
    "                        Shift Returns\n",
    "               A         B         C         D\n",
    "2013-07-08     NaN       NaN       NaN       NaN       ...\n",
    "2013-07-09     NaN       NaN       NaN       NaN       ...\n",
    "2013-07-10     0.015     0.082     0.096     0.020     ...\n",
    "2013-07-11     0.037     0.095     0.027     0.063     ...\n",
    "...            ...       ...       ...       ...\n",
    "```\n",
    "Using the same `returns` data as above, the `shift_returns` function should generate the following with `shift_n` as -2:\n",
    "```\n",
    "                        Shift Returns\n",
    "               A         B         C         D\n",
    "2013-07-08     0.094     0.001     0.093     0.019     ...\n",
    "2013-07-09     0.092     0.057     0.069     0.087     ...\n",
    "...            ...       ...       ...       ...       ...\n",
    "...            ...       ...       ...       ...       ...\n",
    "...            NaN       NaN       NaN       NaN       ...\n",
    "...            NaN       NaN       NaN       NaN       ...\n",
    "```\n",
    "_Note: The \"...\" represents data points we're not showing._"
   ]
  },
  {
   "cell_type": "code",
   "execution_count": null,
   "metadata": {
    "collapsed": true,
    "pycharm": {
     "is_executing": true
    }
   },
   "outputs": [],
   "source": [
    "def shift_returns(returns, shift_n):\n",
    "    \"\"\"\n",
    "    Generate shifted returns\n",
    "    \n",
    "    Parameters\n",
    "    ----------\n",
    "    returns : DataFrame\n",
    "        Returns for each ticker and date\n",
    "    shift_n : int\n",
    "        Number of periods to move, can be positive or negative\n",
    "    \n",
    "    Returns\n",
    "    -------\n",
    "    shifted_returns : DataFrame\n",
    "        Shifted returns for each ticker and date\n",
    "    \"\"\"\n",
    "    # TODO: Implement Function\n",
    "    \n",
    "    return None\n",
    "\n",
    "project_tests.test_shift_returns(shift_returns)"
   ]
  },
  {
   "cell_type": "markdown",
   "metadata": {},
   "source": [
    "### View Data\n",
    "Let's get the previous month's and next month's returns."
   ]
  },
  {
   "cell_type": "code",
   "execution_count": null,
   "metadata": {
    "collapsed": true,
    "pycharm": {
     "is_executing": true
    }
   },
   "outputs": [],
   "source": [
    "prev_returns = shift_returns(monthly_close_returns, 1)\n",
    "lookahead_returns = shift_returns(monthly_close_returns, -1)\n",
    "\n",
    "project_helper.plot_shifted_returns(\n",
    "    prev_returns.loc[:, apple_ticker],\n",
    "    monthly_close_returns.loc[:, apple_ticker],\n",
    "    'Previous Returns of {} Stock'.format(apple_ticker))\n",
    "project_helper.plot_shifted_returns(\n",
    "    lookahead_returns.loc[:, apple_ticker],\n",
    "    monthly_close_returns.loc[:, apple_ticker],\n",
    "    'Lookahead Returns of {} Stock'.format(apple_ticker))"
   ]
  },
  {
   "cell_type": "markdown",
   "metadata": {},
   "source": [
    "## Generate Trading Signal\n",
    "\n",
    "A trading signal is a sequence of trading actions, or results that can be used to take trading actions. A common form is to produce a \"long\" and \"short\" portfolio of stocks on each date (e.g. end of each month, or whatever frequency you desire to trade at). This signal can be interpreted as rebalancing your portfolio on each of those dates, entering long (\"buy\") and short (\"sell\") positions as indicated.\n",
    "\n",
    "Here's a strategy that we will try:\n",
    "> For each month-end observation period, rank the stocks by _previous_ returns, from the highest to the lowest. Select the top performing stocks for the long portfolio, and the bottom performing stocks for the short portfolio.\n",
    "\n",
    "Implement the `get_top_n` function to get the top performing stock for each month. Get the top performing stocks from `prev_returns` by assigning them a value of 1. For all other stocks, give them a value of 0. For example, using the following `prev_returns`:\n",
    "\n",
    "```\n",
    "                                     Previous Returns\n",
    "               A         B         C         D         E         F         G\n",
    "2013-07-08     0.015     0.082     0.096     0.020     0.075     0.043     0.074\n",
    "2013-07-09     0.037     0.095     0.027     0.063     0.024     0.086     0.025\n",
    "...            ...       ...       ...       ...       ...       ...       ...\n",
    "```\n",
    "\n",
    "The function `get_top_n` with `top_n` set to 3 should return the following:\n",
    "```\n",
    "                                     Previous Returns\n",
    "               A         B         C         D         E         F         G\n",
    "2013-07-08     0         1         1         0         1         0         0\n",
    "2013-07-09     0         1         0         1         0         1         0\n",
    "...            ...       ...       ...       ...       ...       ...       ...\n",
    "```\n",
    "*Note: You may have to use Panda's [`DataFrame.iterrows`](https://pandas.pydata.org/pandas-docs/version/0.21/generated/pandas.DataFrame.iterrows.html) with [`Series.nlargest`](https://pandas.pydata.org/pandas-docs/version/0.21/generated/pandas.Series.nlargest.html) in order to implement the function. This is one of those cases where creating a vecorization solution is too difficult.*"
   ]
  },
  {
   "cell_type": "code",
   "execution_count": null,
   "metadata": {
    "collapsed": true,
    "pycharm": {
     "is_executing": true
    },
    "scrolled": true
   },
   "outputs": [],
   "source": [
    "def get_top_n(prev_returns, top_n):\n",
    "    \"\"\"\n",
    "    Select the top performing stocks\n",
    "    \n",
    "    Parameters\n",
    "    ----------\n",
    "    prev_returns : DataFrame\n",
    "        Previous shifted returns for each ticker and date\n",
    "    top_n : int\n",
    "        The number of top performing stocks to get\n",
    "    \n",
    "    Returns\n",
    "    -------\n",
    "    top_stocks : DataFrame\n",
    "        Top stocks for each ticker and date marked with a 1\n",
    "    \"\"\"\n",
    "    # TODO: Implement Function\n",
    "    \n",
    "    return None\n",
    "\n",
    "project_tests.test_get_top_n(get_top_n)"
   ]
  },
  {
   "cell_type": "markdown",
   "metadata": {},
   "source": [
    "### View Data\n",
    "We want to get the best performing and worst performing stocks. To get the best performing stocks, we'll use the `get_top_n` function. To get the worst performing stocks, we'll also use the `get_top_n` function. However, we pass in `-1*prev_returns` instead of just `prev_returns`. Multiplying by negative one will flip all the positive returns to negative and negative returns to positive. Thus, it will return the worst performing stocks."
   ]
  },
  {
   "cell_type": "code",
   "execution_count": null,
   "metadata": {
    "collapsed": true,
    "pycharm": {
     "is_executing": true
    }
   },
   "outputs": [],
   "source": [
    "top_bottom_n = 50\n",
    "df_long = get_top_n(prev_returns, top_bottom_n)\n",
    "df_short = get_top_n(-1*prev_returns, top_bottom_n)\n",
    "project_helper.print_top(df_long, 'Longed Stocks')\n",
    "project_helper.print_top(df_short, 'Shorted Stocks')"
   ]
  },
  {
   "cell_type": "markdown",
   "metadata": {},
   "source": [
    "## Projected Returns\n",
    "It's now time to check if your trading signal has the potential to become profitable!\n",
    "\n",
    "We'll start by computing the net returns this portfolio would return. For simplicity, we'll assume every stock gets an equal dollar amount of investment. This makes it easier to compute a portfolio's returns as the simple arithmetic average of the individual stock returns.\n",
    "\n",
    "Implement the `portfolio_returns` function to compute the expected portfolio returns. Using `df_long` to indicate which stocks to long and `df_short` to indicate which stocks to short, calculate the returns using `lookahead_returns`. To help with calculation, we've provided you with `n_stocks` as the number of stocks we're investing in a single period."
   ]
  },
  {
   "cell_type": "code",
   "execution_count": null,
   "metadata": {
    "collapsed": true,
    "pycharm": {
     "is_executing": true
    }
   },
   "outputs": [],
   "source": [
    "def portfolio_returns(df_long, df_short, lookahead_returns, n_stocks):\n",
    "    \"\"\"\n",
    "    Compute expected returns for the portfolio, assuming equal investment in each long/short stock.\n",
    "    \n",
    "    Parameters\n",
    "    ----------\n",
    "    df_long : DataFrame\n",
    "        Top stocks for each ticker and date marked with a 1\n",
    "    df_short : DataFrame\n",
    "        Bottom stocks for each ticker and date marked with a 1\n",
    "    lookahead_returns : DataFrame\n",
    "        Lookahead returns for each ticker and date\n",
    "    n_stocks: int\n",
    "        The number number of stocks chosen for each month\n",
    "    \n",
    "    Returns\n",
    "    -------\n",
    "    portfolio_returns : DataFrame\n",
    "        Expected portfolio returns for each ticker and date\n",
    "    \"\"\"\n",
    "    # TODO: Implement Function\n",
    "    \n",
    "    return None\n",
    "\n",
    "project_tests.test_portfolio_returns(portfolio_returns)"
   ]
  },
  {
   "cell_type": "markdown",
   "metadata": {},
   "source": [
    "### View Data\n",
    "Time to see how the portfolio did."
   ]
  },
  {
   "cell_type": "code",
   "execution_count": null,
   "metadata": {
    "collapsed": true,
    "pycharm": {
     "is_executing": true
    }
   },
   "outputs": [],
   "source": [
    "expected_portfolio_returns = portfolio_returns(df_long, df_short, lookahead_returns, 2*top_bottom_n)\n",
    "project_helper.plot_returns(expected_portfolio_returns.T.sum(), 'Portfolio Returns')"
   ]
  },
  {
   "cell_type": "markdown",
   "metadata": {},
   "source": [
    "## Statistical Tests\n",
    "### Annualized Rate of Return"
   ]
  },
  {
   "cell_type": "code",
   "execution_count": null,
   "metadata": {
    "collapsed": true,
    "pycharm": {
     "is_executing": true
    }
   },
   "outputs": [],
   "source": [
    "expected_portfolio_returns_by_date = expected_portfolio_returns.T.sum().dropna()\n",
    "portfolio_ret_mean = expected_portfolio_returns_by_date.mean()\n",
    "portfolio_ret_ste = expected_portfolio_returns_by_date.sem()\n",
    "portfolio_ret_annual_rate = (np.exp(portfolio_ret_mean * 12) - 1) * 100\n",
    "\n",
    "print(\"\"\"\n",
    "Mean:                       {:.6f}\n",
    "Standard Error:             {:.6f}\n",
    "Annualized Rate of Return:  {:.2f}%\n",
    "\"\"\".format(portfolio_ret_mean, portfolio_ret_ste, portfolio_ret_annual_rate))"
   ]
  },
  {
   "cell_type": "markdown",
   "metadata": {},
   "source": [
    "The annualized rate of return allows you to compare the rate of return from this strategy to other quoted rates of return, which are usually quoted on an annual basis. \n",
    "\n",
    "### T-Test\n",
    "Our null hypothesis ($H_0$) is that the actual mean return from the signal is zero. We'll perform a one-sample, one-sided t-test on the observed mean return, to see if we can reject $H_0$.\n",
    "\n",
    "We'll need to first compute the t-statistic, and then find its corresponding p-value. The p-value will indicate the probability of observing a t-statistic equally or more extreme than the one we observed if the null hypothesis were true. A small p-value means that the chance of observing the t-statistic we observed under the null hypothesis is small, and thus casts doubt on the null hypothesis. It's good practice to set a desired level of significance or alpha ($\\alpha$) _before_ computing the p-value, and then reject the null hypothesis if $p < \\alpha$.\n",
    "\n",
    "For this project, we'll use $\\alpha = 0.05$, since it's a common value to use.\n",
    "\n",
    "Implement the `analyze_alpha` function to perform a t-test on the sample of portfolio returns. We've imported the `scipy.stats` module for you to perform the t-test.\n",
    "\n",
    "Note: [`scipy.stats.ttest_1samp`](https://docs.scipy.org/doc/scipy-1.0.0/reference/generated/scipy.stats.ttest_1samp.html) performs a two-sided test, so divide the p-value by 2 to get 1-sided p-value"
   ]
  },
  {
   "cell_type": "code",
   "execution_count": null,
   "metadata": {
    "collapsed": true,
    "pycharm": {
     "is_executing": true
    }
   },
   "outputs": [],
   "source": [
    "from scipy import stats\n",
    "\n",
    "def analyze_alpha(expected_portfolio_returns_by_date):\n",
    "    \"\"\"\n",
    "    Perform a t-test with the null hypothesis being that the expected mean return is zero.\n",
    "    \n",
    "    Parameters\n",
    "    ----------\n",
    "    expected_portfolio_returns_by_date : Pandas Series\n",
    "        Expected portfolio returns for each date\n",
    "    \n",
    "    Returns\n",
    "    -------\n",
    "    t_value\n",
    "        T-statistic from t-test\n",
    "    p_value\n",
    "        Corresponding p-value\n",
    "    \"\"\"\n",
    "    # TODO: Implement Function\n",
    "\n",
    "    return None\n",
    "\n",
    "project_tests.test_analyze_alpha(analyze_alpha)"
   ]
  },
  {
   "cell_type": "markdown",
   "metadata": {},
   "source": [
    "### View Data\n",
    "Let's see what values we get with our portfolio. After you run this, make sure to answer the question below."
   ]
  },
  {
   "cell_type": "code",
   "execution_count": null,
   "metadata": {
    "collapsed": true,
    "pycharm": {
     "is_executing": true
    }
   },
   "outputs": [],
   "source": [
    "t_value, p_value = analyze_alpha(expected_portfolio_returns_by_date)\n",
    "print(\"\"\"\n",
    "Alpha analysis:\n",
    " t-value:        {:.3f}\n",
    " p-value:        {:.6f}\n",
    "\"\"\".format(t_value, p_value))"
   ]
  },
  {
   "cell_type": "markdown",
   "metadata": {},
   "source": [
    "### Question: What p-value did you observe? And what does that indicate about your signal?"
   ]
  },
  {
   "cell_type": "markdown",
   "metadata": {},
   "source": [
    "*#TODO: Put Answer In this Cell*"
   ]
  },
  {
   "cell_type": "markdown",
   "metadata": {},
   "source": [
    "## Submission\n",
    "Now that you're done with the project, it's time to submit it. Click the submit button in the bottom right. One of our reviewers will give you feedback on your project with a pass or not passed grade. You can continue to the next section while you wait for feedback."
   ]
  }
 ],
 "metadata": {
  "kernelspec": {
   "display_name": "Python 3",
   "language": "python",
   "name": "python3"
  },
  "language_info": {
   "codemirror_mode": {
    "name": "ipython",
    "version": 3
   },
   "file_extension": ".py",
   "mimetype": "text/x-python",
   "name": "python",
   "nbconvert_exporter": "python",
   "pygments_lexer": "ipython3",
   "version": "3.8.3"
  }
 },
 "nbformat": 4,
 "nbformat_minor": 2
}